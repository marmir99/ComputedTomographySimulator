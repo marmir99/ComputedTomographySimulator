{
 "cells": [
  {
   "cell_type": "markdown",
   "metadata": {},
   "source": [
    "# Computed Tomography Simulator"
   ]
  },
  {
   "cell_type": "code",
   "execution_count": 1,
   "metadata": {},
   "outputs": [],
   "source": [
    "import cv2\n",
    "import numpy as np\n",
    "from matplotlib import pyplot as plt\n",
    "from skimage.util import img_as_int\n",
    "import pydicom\n",
    "from pydicom.uid import ExplicitVRLittleEndian\n",
    "import pydicom._storage_sopclass_uids\n",
    "import datetime\n",
    "from pydicom.dataset import Dataset, FileDataset, FileMetaDataset\n",
    "from pydicom.data import get_testdata_file\n",
    "from ipywidgets import interact, interactive, fixed, interact_manual\n",
    "import ipywidgets as widgets\n",
    "from IPython.display import display, Markdown, Latex\n",
    "import functools\n",
    "from IPython.core.display import display, HTML\n",
    "from PIL import Image, ImageOps"
   ]
  },
  {
   "cell_type": "code",
   "execution_count": 2,
   "metadata": {},
   "outputs": [],
   "source": [
    "def calculateRMSE(input_img, output_img):\n",
    "    if np.amax(output_img) > 1:\n",
    "        output_img = output_img / 255\n",
    "    if np.amax(input_img) > 1:\n",
    "        input_img = np.array(input_img) / 255\n",
    "    print(np.amin(input_img), np.amax(input_img))\n",
    "    print(np.amin(output_img), np.amax(output_img))\n",
    "    rmse = 0.0\n",
    "    n = input_img.shape[0] * input_img.shape[1]\n",
    "    rmse = np.sum(np.concatenate((input_img - output_img)**2))       \n",
    "    return np.sqrt(rmse / n)"
   ]
  },
  {
   "cell_type": "code",
   "execution_count": 3,
   "metadata": {},
   "outputs": [],
   "source": [
    "def write_as_dcm(img, filename, firstName, lastName, patientID, sex, birthDate, studyDate, comment):\n",
    "    img = img_as_int(img)\n",
    "    filect = get_testdata_file('CT_small.dcm')\n",
    "    ds = pydicom.dcmread(filect)\n",
    "    \n",
    "    ds.PatientName = '{}^{}'.format(lastName, firstName)\n",
    "    ds.PatientID = patientID\n",
    "    ds.PatientSex = sex\n",
    "    ds.PatientBirthDate = birthDate\n",
    "    ds.StudyDate = studyDate\n",
    "    \n",
    "    ds.Rows, ds.Columns = img.shape[0], img.shape[1]\n",
    "    ds.PixelRepresentation = 0\n",
    "    ds.BitsAllocated = 16\n",
    "    ds.BitsStored = 16\n",
    "    ds.HighBit = 15\n",
    "    ds.PixelData = img.tobytes()\n",
    "    ds.ImageComments = comment\n",
    "    \n",
    "    ds.save_as(filename)"
   ]
  },
  {
   "cell_type": "code",
   "execution_count": 4,
   "metadata": {},
   "outputs": [],
   "source": [
    "class Radon():\n",
    "    def __init__(self, step_alpha: float = 2, num_detectors: int = 120, detectors_range: int = 120, \n",
    "                 is_filtered: bool = True, is_animated: bool = False):\n",
    "        self.height = None\n",
    "        self.width = None\n",
    "        self.step_alpha = step_alpha\n",
    "        self.num_detectors = num_detectors\n",
    "        self.detectors_range = np.deg2rad(detectors_range)  # angle\n",
    "        self.ok = 0\n",
    "        self.nook = 0\n",
    "        self.kernel = None\n",
    "        self.is_filtered = is_filtered\n",
    "        self.ds = None\n",
    "        self.img = None\n",
    "        self.is_animated = is_animated\n",
    "\n",
    "    def load_photo(self, img_name):\n",
    "        if img_name.endswith(\".dcm\"):\n",
    "            self.ds = pydicom.dcmread(img_name)\n",
    "            self.img = self.ds.pixel_array\n",
    "        else:\n",
    "            self.img = cv2.imread(img_name, 0)\n",
    "        self.add_padding()\n",
    "\n",
    "    def set_step_alpha(self, value: int):\n",
    "        self.step_alpha = value\n",
    "\n",
    "    def set_num_detectors(self, value: int):\n",
    "        self.num_detectors = value\n",
    "\n",
    "    def set_detectors_range(self, value: int):\n",
    "        self.detectors_range = value\n",
    "        \n",
    "    def set_is_animated(self, value: bool):\n",
    "        self.is_animated = value\n",
    "\n",
    "    def add_padding(self):\n",
    "        self.height, self.width, *args = self.img.shape\n",
    "        if self.height > self.width:\n",
    "            diff = (self.height - self.width)\n",
    "            left = diff // 2\n",
    "            right = diff // 2\n",
    "            if diff % 2 != 0:\n",
    "                left += 1\n",
    "            self.img = cv2.copyMakeBorder(self.img, 0, 0, left, right, cv2.BORDER_CONSTANT)\n",
    "        elif self.width > self.height:\n",
    "            diff = (self.width - self.height)\n",
    "            top = diff // 2\n",
    "            bottom = diff // 2\n",
    "            if diff % 2 != 0:\n",
    "                top += 1\n",
    "            self.img = cv2.copyMakeBorder(self.img, top, bottom, 0, 0, cv2.BORDER_CONSTANT)\n",
    "\n",
    "    def get_sinogram(self):\n",
    "        sinogram = np.zeros((int(360//self.step_alpha), self.num_detectors))\n",
    "        angles = np.arange(0., 360., self.step_alpha)\n",
    "        \n",
    "        animation = []\n",
    "        \n",
    "        for i, angle_emitter in enumerate(angles):\n",
    "            positions_emitter, positions_detectors = self.get_positions(angle_emitter)\n",
    "            pixels_color = self.get_pixels_color(positions_emitter, positions_detectors)\n",
    "            sinogram[i] = pixels_color\n",
    "            \n",
    "            if self.is_animated:\n",
    "                out_animation = sinogram.copy()\n",
    "                out_animation = np.array(self.normalizeArray(out_animation, int(360//self.step_alpha), self.num_detectors))\n",
    "                img = Image.fromarray(out_animation * 255)\n",
    "                animation.append(img)\n",
    "                \n",
    "        if self.is_animated:\n",
    "            animation[0].save('sinogram.gif', save_all = True, append_images = animation[1:])\n",
    "                \n",
    "        return sinogram\n",
    "\n",
    "    def get_positions(self, angle_emitter):\n",
    "        angle_emitter = np.deg2rad(angle_emitter)  # change degree to radian\n",
    "        positions_detectors = []\n",
    "        r = self.img.shape[0] * np.sqrt(2) / 2  # radius of circle\n",
    "        center = int(self.img.shape[0] / 2)\n",
    "        positions_emitter = [int(r * np.cos(angle_emitter)) + center,\n",
    "                             int(r * np.sin(angle_emitter)) + center]\n",
    "        if self.num_detectors > 1:\n",
    "            for i in range(self.num_detectors):\n",
    "                position = [\n",
    "                    int(r * np.cos(angle_emitter + np.pi - self.detectors_range / 2 + i * self.detectors_range / (\n",
    "                                self.num_detectors - 1))) + center,\n",
    "                    int(r * np.sin(angle_emitter + np.pi - self.detectors_range / 2 + i * self.detectors_range / (\n",
    "                                self.num_detectors - 1))) + center]\n",
    "                positions_detectors.append(position)\n",
    "\n",
    "        return positions_emitter, positions_detectors\n",
    "\n",
    "    def bresenham_line(self, start, end):\n",
    "        start_x, start_y = int(start[0]), int(start[1])\n",
    "        end_x, end_y = int(end[0]), int(end[1])\n",
    "\n",
    "        kx = 1 if start_x <= end_x else -1\n",
    "        ky = 1 if start_y <= end_y else -1\n",
    "\n",
    "        dx = abs(start_x - end_x)\n",
    "        dy = abs(start_y - end_y)\n",
    "\n",
    "        yield start_x, start_y\n",
    "\n",
    "        if dx < dy:\n",
    "            e = dy / 2\n",
    "            for i in range(int(dy)):\n",
    "                start_y += ky\n",
    "                e = e - dx\n",
    "                if e < 0:\n",
    "                    start_x += kx\n",
    "                    e = e + dy\n",
    "                yield start_x, start_y\n",
    "        else:\n",
    "            e = dx / 2\n",
    "            for i in range(int(dx)):\n",
    "                start_x += kx\n",
    "                e = e - dy\n",
    "                if e < 0:\n",
    "                    start_y += ky\n",
    "                    e += dx\n",
    "                yield start_x, start_y\n",
    "\n",
    "    def point_in_picture(self, x, y):\n",
    "        if (0 <= x < self.img.shape[0]) and (0 <= y < self.img.shape[0]):\n",
    "            return True\n",
    "        else:\n",
    "            return False\n",
    "\n",
    "    def get_pixels_color(self, emitter_position, detectors_position):\n",
    "        colors = []\n",
    "        for detector_position in detectors_position:\n",
    "            color = 0.0\n",
    "            count_pixels = 0\n",
    "            for x, y in self.bresenham_line(emitter_position, detector_position):\n",
    "                if self.point_in_picture(x, y):\n",
    "                    color += self.img[x][y]\n",
    "                    count_pixels += 1\n",
    "            if count_pixels:\n",
    "                tmp = color / count_pixels\n",
    "                colors.append(tmp/255)\n",
    "            else:\n",
    "                colors.append(np.float64(0))\n",
    "                \n",
    "        return colors\n",
    "\n",
    "    def normalizeVector(self, vec):\n",
    "        normalizeVec = []\n",
    "        rowMax = max(vec)\n",
    "        rowMin = min(vec)\n",
    "        diff = rowMax - rowMin\n",
    "        for v in vec:\n",
    "            normalizeVec.append((v-rowMin)/diff)\n",
    "            \n",
    "        return normalizeVec\n",
    "\n",
    "    def normalizeArray(self, arr, x, y):\n",
    "        normalizeArr = np.zeros((x, y))\n",
    "        rowMax = 0\n",
    "        rowMin = 999999\n",
    "        for row in arr:\n",
    "            if max(row) > rowMax:\n",
    "                rowMax = max(row)\n",
    "            if min(row) < rowMin:\n",
    "                rowMin = min(row)\n",
    "        diff = rowMax - rowMin\n",
    "        for i, row in enumerate(arr):\n",
    "            for j, x in enumerate(row):\n",
    "                x -= rowMin\n",
    "                x /= diff if diff > 0 else 0\n",
    "                normalizeArr[i][j] = x\n",
    "                \n",
    "        return normalizeArr\n",
    "\n",
    "\n",
    "    def get_inverse(self, sinogram):\n",
    "        angles = np.arange(0., 360., self.step_alpha)\n",
    "        output_image = np.zeros((self.img.shape[1], self.img.shape[0]))\n",
    "        all_emitters = []\n",
    "        all_detectors = []\n",
    "        animation = []\n",
    "\n",
    "        for angle_emitter in angles:\n",
    "            positions_emitter, positions_detectors = self.get_positions(angle_emitter)\n",
    "            all_emitters.append(positions_emitter)\n",
    "            all_detectors.append(positions_detectors)\n",
    "\n",
    "        for i in range(len(all_emitters)):\n",
    "            for j in range(len(all_detectors[i])):\n",
    "                for x, y in self.bresenham_line(all_emitters[i], all_detectors[i][j]):\n",
    "                    if self.point_in_picture(x, y):\n",
    "                        output_image[x][y] += sinogram[i][j]\n",
    "            if self.is_animated and (i%2 == 0 or i==len(all_emitters)-1):\n",
    "                out_animation = output_image.copy()\n",
    "                out_animation = np.array(self.normalizeArray(out_animation, out_animation.shape[1], out_animation.shape[0]))\n",
    "                img = Image.fromarray(out_animation * 255)\n",
    "                animation.append(img)\n",
    "        \n",
    "        if self.is_animated:\n",
    "            animation[0].save('reverse.gif', save_all = True, append_images = animation[1:])\n",
    "\n",
    "        return self.normalizeArray(output_image, output_image.shape[1], output_image.shape[0])\n",
    "\n",
    "    def create_kernel(self, size=100):\n",
    "        kernel = []\n",
    "        for i in range(-size//2, size//2):\n",
    "            if i == 0:\n",
    "                kernel.append(1)\n",
    "            elif i % 2 ==0:\n",
    "                kernel.append(0)\n",
    "            else:\n",
    "                kernel.append((-4/(np.pi**2))/(i**2))\n",
    "\n",
    "        return kernel\n",
    "\n",
    "\n",
    "    def filtruj(self, row_to_filter):\n",
    "        if self.kernel is None:\n",
    "            self.kernel = self.create_kernel()\n",
    "            \n",
    "        return np.convolve(row_to_filter, self.kernel, mode = 'same')\n",
    "    \n",
    "    \n",
    "    def draw_sinogram(self):\n",
    "        fig=plt.figure(figsize=(17,50))\n",
    "        sinogram = np.array(self.get_sinogram())\n",
    "        \n",
    "        if self.is_filtered:\n",
    "            sinogram_f = []\n",
    "            for row in sinogram:\n",
    "                row_f = self.filtruj(row)\n",
    "                sinogram_f.append(row_f)   \n",
    "            sinogram = np.array(sinogram_f)\n",
    "        \n",
    "        sinogram = np.array(sinogram)\n",
    "        self.reverse_img = self.get_inverse(sinogram)\n",
    "        \n",
    "        if self.is_animated:\n",
    "            f = open('sinogram.gif', 'rb')\n",
    "            f = f.read()\n",
    "            img = widgets.Image(value = f, width = 200)\n",
    "            display(img)\n",
    "            f = open('reverse.gif', 'rb')\n",
    "            f = f.read()\n",
    "            img = widgets.Image(value = f, width = 200)\n",
    "            display(img)\n",
    "        else:\n",
    "            fig.add_subplot(1, 3, 1)\n",
    "            plt.imshow(self.img, cmap = 'gist_gray')\n",
    "            fig.add_subplot(1, 3, 2)       \n",
    "            plt.imshow(sinogram, cmap = 'gist_gray')\n",
    "            fig.add_subplot(1, 3, 3)\n",
    "            plt.imshow(self.reverse_img, cmap = 'gist_gray')\n",
    "            plt.show()"
   ]
  },
  {
   "cell_type": "code",
   "execution_count": 5,
   "metadata": {},
   "outputs": [],
   "source": [
    "step_alpha = widgets.FloatSlider(\n",
    "    value=1,\n",
    "    min=0.5,\n",
    "    max=3,\n",
    "    step=0.5,\n",
    "    description='Step alpha:',\n",
    "    disabled=False,\n",
    "    continuous_update=False,\n",
    "    orientation='horizontal',\n",
    "    readout=True,\n",
    "    readout_format='.1f',\n",
    ")\n",
    "\n",
    "num_detectors = widgets.IntSlider(\n",
    "    value=120,\n",
    "    min=80,\n",
    "    max=720,\n",
    "    step=20,\n",
    "    description='Number of detectors:',\n",
    "    disabled=False,\n",
    "    continuous_update=False,\n",
    "    orientation='horizontal',\n",
    "    readout=True,\n",
    "    readout_format='d'\n",
    ")\n",
    "\n",
    "detectors_range = widgets.IntSlider(\n",
    "    value=180,\n",
    "    min=40,\n",
    "    max=360,\n",
    "    step=20,\n",
    "    description='Detectors range:',\n",
    "    disabled=False,\n",
    "    continuous_update=False,\n",
    "    orientation='horizontal',\n",
    "    readout=True,\n",
    "    readout_format='d'\n",
    ")\n",
    "\n",
    "is_filtered = widgets.Checkbox(\n",
    "    value=False,\n",
    "    description='Use filter',\n",
    "    disabled=False,\n",
    "    indent=False\n",
    ")\n",
    "\n",
    "is_animated = widgets.Checkbox(\n",
    "    value=False,\n",
    "    description='Show animation',\n",
    "    disabled=False,\n",
    "    indent=False\n",
    ")\n",
    "\n",
    "file = widgets.FileUpload(\n",
    "    accept='img\\*',  \n",
    "    multiple=False  \n",
    ")"
   ]
  },
  {
   "cell_type": "code",
   "execution_count": 7,
   "metadata": {},
   "outputs": [
    {
     "data": {
      "text/markdown": [
       "## Process image"
      ],
      "text/plain": [
       "<IPython.core.display.Markdown object>"
      ]
     },
     "metadata": {},
     "output_type": "display_data"
    },
    {
     "data": {
      "application/vnd.jupyter.widget-view+json": {
       "model_id": "23b2efee5ac34ff1acedc71ecb99834a",
       "version_major": 2,
       "version_minor": 0
      },
      "text/plain": [
       "FileUpload(value={'Kropka.jpg': {'metadata': {'name': 'Kropka.jpg', 'type': 'image/jpeg', 'size': 5101, 'lastM…"
      ]
     },
     "metadata": {},
     "output_type": "display_data"
    },
    {
     "data": {
      "application/vnd.jupyter.widget-view+json": {
       "model_id": "b662fc8db3a347cd9a9f823013a3efab",
       "version_major": 2,
       "version_minor": 0
      },
      "text/plain": [
       "FloatSlider(value=2.0, continuous_update=False, description='Step alpha:', max=3.0, min=0.5, readout_format='.…"
      ]
     },
     "metadata": {},
     "output_type": "display_data"
    },
    {
     "data": {
      "application/vnd.jupyter.widget-view+json": {
       "model_id": "86943fbbb091485295b2ce93cb7e2424",
       "version_major": 2,
       "version_minor": 0
      },
      "text/plain": [
       "IntSlider(value=120, continuous_update=False, description='Number of detectors:', max=720, min=80, step=20)"
      ]
     },
     "metadata": {},
     "output_type": "display_data"
    },
    {
     "data": {
      "application/vnd.jupyter.widget-view+json": {
       "model_id": "795b3f39b7b3480b945151a31cce3e74",
       "version_major": 2,
       "version_minor": 0
      },
      "text/plain": [
       "IntSlider(value=120, continuous_update=False, description='Detectors range:', max=360, min=40, step=20)"
      ]
     },
     "metadata": {},
     "output_type": "display_data"
    },
    {
     "data": {
      "application/vnd.jupyter.widget-view+json": {
       "model_id": "b6ed9c613dc44717b2e2609211e3cdc6",
       "version_major": 2,
       "version_minor": 0
      },
      "text/plain": [
       "Checkbox(value=True, description='Use filter', indent=False)"
      ]
     },
     "metadata": {},
     "output_type": "display_data"
    },
    {
     "data": {
      "application/vnd.jupyter.widget-view+json": {
       "model_id": "51a1b95cad4a46278659469abf4122b9",
       "version_major": 2,
       "version_minor": 0
      },
      "text/plain": [
       "Checkbox(value=True, description='Show animation', indent=False)"
      ]
     },
     "metadata": {},
     "output_type": "display_data"
    },
    {
     "data": {
      "application/vnd.jupyter.widget-view+json": {
       "model_id": "d4d21a1382974c598b6b31c4bf4e5299",
       "version_major": 2,
       "version_minor": 0
      },
      "text/plain": [
       "Button(description='Start processing', style=ButtonStyle())"
      ]
     },
     "metadata": {},
     "output_type": "display_data"
    }
   ],
   "source": [
    "button = widgets.Button(description=\"Start processing\")\n",
    "\n",
    "def on_button_clicked(b):\n",
    "    filename = list(file.value.keys())[0]\n",
    "    global radon\n",
    "    radon = Radon(step_alpha.value, num_detectors.value, detectors_range.value, is_filtered.value, is_animated.value)\n",
    "    radon.load_photo(f'img\\{filename}')\n",
    "    radon.draw_sinogram()\n",
    "\n",
    "\n",
    "display(Markdown('## Process image'))\n",
    "display(file)\n",
    "display(step_alpha)\n",
    "display(num_detectors)\n",
    "display(detectors_range)\n",
    "display(is_filtered)\n",
    "display(is_animated)\n",
    "display(button)\n",
    "button.on_click(on_button_clicked)\n",
    "\n"
   ]
  },
  {
   "cell_type": "markdown",
   "metadata": {},
   "source": [
    "## Save image as dicom file"
   ]
  },
  {
   "cell_type": "code",
   "execution_count": 8,
   "metadata": {},
   "outputs": [
    {
     "data": {
      "application/vnd.jupyter.widget-view+json": {
       "model_id": "65c7557a327945818e76581b5552b23f",
       "version_major": 2,
       "version_minor": 0
      },
      "text/plain": [
       "Text(value='', description='First Name:')"
      ]
     },
     "metadata": {},
     "output_type": "display_data"
    },
    {
     "data": {
      "application/vnd.jupyter.widget-view+json": {
       "model_id": "d83924479bac45f9a18933fa12c5f819",
       "version_major": 2,
       "version_minor": 0
      },
      "text/plain": [
       "Text(value='', description='Last Name:')"
      ]
     },
     "metadata": {},
     "output_type": "display_data"
    },
    {
     "data": {
      "application/vnd.jupyter.widget-view+json": {
       "model_id": "ae9fe17073514028b8837de688dd23a8",
       "version_major": 2,
       "version_minor": 0
      },
      "text/plain": [
       "Text(value='', description='Id :')"
      ]
     },
     "metadata": {},
     "output_type": "display_data"
    },
    {
     "data": {
      "application/vnd.jupyter.widget-view+json": {
       "model_id": "ba5a8d1afa924b5dadb942022e21fe11",
       "version_major": 2,
       "version_minor": 0
      },
      "text/plain": [
       "Dropdown(description='Sex: :', options=('Woman', 'Man', 'Others'), value='Woman')"
      ]
     },
     "metadata": {},
     "output_type": "display_data"
    },
    {
     "data": {
      "application/vnd.jupyter.widget-view+json": {
       "model_id": "97a5fa0bf03741d0930c4179bce09c84",
       "version_major": 2,
       "version_minor": 0
      },
      "text/plain": [
       "DatePicker(value=None, description='Birthday: ')"
      ]
     },
     "metadata": {},
     "output_type": "display_data"
    },
    {
     "data": {
      "application/vnd.jupyter.widget-view+json": {
       "model_id": "7721f8ef241b4f769c7cf0af6a2aface",
       "version_major": 2,
       "version_minor": 0
      },
      "text/plain": [
       "DatePicker(value=None, description='Test day: ')"
      ]
     },
     "metadata": {},
     "output_type": "display_data"
    },
    {
     "data": {
      "application/vnd.jupyter.widget-view+json": {
       "model_id": "a387b7ca96e54d6dbeba13801fe528ae",
       "version_major": 2,
       "version_minor": 0
      },
      "text/plain": [
       "Textarea(value='', description='Comment:')"
      ]
     },
     "metadata": {},
     "output_type": "display_data"
    },
    {
     "data": {
      "application/vnd.jupyter.widget-view+json": {
       "model_id": "c3e72db8936f42e8a40c1982d4cc2d70",
       "version_major": 2,
       "version_minor": 0
      },
      "text/plain": [
       "Text(value='', description='Filename:', placeholder='Type filename without file extension')"
      ]
     },
     "metadata": {},
     "output_type": "display_data"
    },
    {
     "data": {
      "application/vnd.jupyter.widget-view+json": {
       "model_id": "515f78cb05f44f7d99e7915f65f49394",
       "version_major": 2,
       "version_minor": 0
      },
      "text/plain": [
       "Button(description='Save', style=ButtonStyle())"
      ]
     },
     "metadata": {},
     "output_type": "display_data"
    }
   ],
   "source": [
    "\n",
    "first_name = widgets.Text(\n",
    "    description='First Name:',\n",
    "    disabled=False\n",
    ")\n",
    "\n",
    "last_name = widgets.Text(\n",
    "    description='Last Name:',\n",
    "    disabled=False\n",
    ")\n",
    "\n",
    "id_patient = widgets.Text(\n",
    "    description='Id :',\n",
    "    disabled=False\n",
    ")\n",
    "\n",
    "sex = widgets.Dropdown(\n",
    "    options=['Woman', 'Man', 'Others'],\n",
    "    description='Sex: :',\n",
    "    disabled=False,\n",
    ")\n",
    "\n",
    "birth_date = widgets.DatePicker(\n",
    "    description='Birthday: ',\n",
    "    disabled=False\n",
    ")\n",
    "\n",
    "test_date = widgets.DatePicker(\n",
    "    description='Test day: ',\n",
    "    disabled=False\n",
    ")\n",
    "\n",
    "comment = widgets.Textarea(\n",
    "    description='Comment:',\n",
    "    disabled=False\n",
    ")\n",
    "\n",
    "filename = widgets.Text(\n",
    "    placeholder = 'Type filename without file extension',\n",
    "    description='Filename:',\n",
    "    disabled=False\n",
    ")\n",
    "button_save = widgets.Button(description=\"Save\")\n",
    "\n",
    "display(first_name)\n",
    "display(last_name)\n",
    "display(id_patient)\n",
    "display(sex)\n",
    "display(birth_date)\n",
    "display(test_date)\n",
    "display(comment)\n",
    "display(filename)\n",
    "display(button_save)\n",
    "\n",
    "#write_as_dcm(img, f'{filename.value}.dcm', first_name.value, last_name.value, id_patient.value, sex.value, str(birth_date.value),str(test_date.value) , comment.value)\n",
    "\n",
    "def on_save_button(b):\n",
    "    write_as_dcm(radon.reverse_img,\n",
    "                 filename.value,\n",
    "                 first_name.value,\n",
    "                 last_name.value,\n",
    "                 id_patient.value,\n",
    "                 sex.value,\n",
    "                 str(birth_date.value),\n",
    "                 str(test_date.value),\n",
    "                 comment.value)\n",
    "\n",
    "button_save.on_click(on_save_button)\n",
    "#functools.partial(write_as_dcm, img, f'{filename.value}.dcm', first_name.value, last_name.value, id_patient.value, sex.value, str(birth_date.value),str(test_date.value), comment.value )"
   ]
  },
  {
   "cell_type": "code",
   "execution_count": null,
   "metadata": {},
   "outputs": [],
   "source": []
  }
 ],
 "metadata": {
  "kernelspec": {
   "display_name": "Python 3",
   "language": "python",
   "name": "python3"
  },
  "language_info": {
   "codemirror_mode": {
    "name": "ipython",
    "version": 3
   },
   "file_extension": ".py",
   "mimetype": "text/x-python",
   "name": "python",
   "nbconvert_exporter": "python",
   "pygments_lexer": "ipython3",
   "version": "3.8.3"
  }
 },
 "nbformat": 4,
 "nbformat_minor": 4
}
